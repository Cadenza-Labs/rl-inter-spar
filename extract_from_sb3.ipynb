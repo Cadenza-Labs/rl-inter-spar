{
 "cells": [
  {
   "cell_type": "markdown",
   "metadata": {},
   "source": [
    "# Import"
   ]
  },
  {
   "cell_type": "code",
   "execution_count": null,
   "metadata": {},
   "outputs": [],
   "source": [
    "from stable_baselines3 import PPO\n",
    "from stable_baselines3.common.vec_env import VecNormalize\n",
    "import gymnasium as gym\n",
    "from stable_baselines3.common.env_util import make_atari_env\n",
    "from stable_baselines3.common.vec_env import VecFrameStack\n",
    "\n",
    "import nicehooks.nice_hooks as nice_hooks\n",
    "import torch as th\n",
    "from sb3_extract import sb3_preprocess, obs_to_tensor, get_extractor_activation"
   ]
  },
  {
   "cell_type": "markdown",
   "metadata": {},
   "source": [
    "# Load for the model"
   ]
  },
  {
   "cell_type": "code",
   "execution_count": null,
   "metadata": {},
   "outputs": [],
   "source": [
    "model = PPO.load('agents/ppo-PongNoFrameskip-v4', device='cpu')\n",
    "env = make_atari_env('PongNoFrameskip-v4', n_envs=1)\n",
    "env = VecFrameStack(env, n_stack=4)"
   ]
  },
  {
   "cell_type": "code",
   "execution_count": null,
   "metadata": {},
   "outputs": [],
   "source": [
    "result, cache = get_extractor_activation(model, obs_to_tensor(model, env.reset()))"
   ]
  },
  {
   "cell_type": "code",
   "execution_count": 11,
   "metadata": {},
   "outputs": [
    {
     "data": {
      "text/plain": [
       "({'cnn.0': torch.Size([1, 32, 20, 20]),\n",
       "  'cnn.1': torch.Size([1, 32, 20, 20]),\n",
       "  'cnn.2': torch.Size([1, 64, 9, 9]),\n",
       "  'cnn.3': torch.Size([1, 64, 9, 9]),\n",
       "  'cnn.4': torch.Size([1, 64, 7, 7]),\n",
       "  'cnn.5': torch.Size([1, 64, 7, 7]),\n",
       "  'cnn.6': torch.Size([1, 3136]),\n",
       "  'cnn': torch.Size([1, 3136]),\n",
       "  'linear.0': torch.Size([1, 512]),\n",
       "  'linear.1': torch.Size([1, 512]),\n",
       "  'linear': torch.Size([1, 512]),\n",
       "  '': torch.Size([1, 512])},\n",
       " NatureCNN(\n",
       "   (cnn): Sequential(\n",
       "     (0): Conv2d(4, 32, kernel_size=(8, 8), stride=(4, 4))\n",
       "     (1): ReLU()\n",
       "     (2): Conv2d(32, 64, kernel_size=(4, 4), stride=(2, 2))\n",
       "     (3): ReLU()\n",
       "     (4): Conv2d(64, 64, kernel_size=(3, 3), stride=(1, 1))\n",
       "     (5): ReLU()\n",
       "     (6): Flatten(start_dim=1, end_dim=-1)\n",
       "   )\n",
       "   (linear): Sequential(\n",
       "     (0): Linear(in_features=3136, out_features=512, bias=True)\n",
       "     (1): ReLU()\n",
       "   )\n",
       " ))"
      ]
     },
     "execution_count": 11,
     "metadata": {},
     "output_type": "execute_result"
    }
   ],
   "source": [
    "{k: v.shape for k,v in cache.items()}, model.policy.features_extractor"
   ]
  }
 ],
 "metadata": {
  "kernelspec": {
   "display_name": "spar",
   "language": "python",
   "name": "python3"
  },
  "language_info": {
   "codemirror_mode": {
    "name": "ipython",
    "version": 3
   },
   "file_extension": ".py",
   "mimetype": "text/x-python",
   "name": "python",
   "nbconvert_exporter": "python",
   "pygments_lexer": "ipython3",
   "version": "3.10.0"
  }
 },
 "nbformat": 4,
 "nbformat_minor": 2
}
